{
 "cells": [
  {
   "cell_type": "code",
   "execution_count": 1,
   "metadata": {},
   "outputs": [],
   "source": [
    "# imports\n",
    "import numpy as np\n",
    "import pandas as pd\n",
    "import datetime\n",
    "import pandas_datareader.data as web\n",
    "import matplotlib.pyplot as plt"
   ]
  },
  {
   "cell_type": "code",
   "execution_count": 2,
   "metadata": {},
   "outputs": [],
   "source": [
    "# get stock data\n",
    "def get_stock_data(stock_name, start=(1950,1,1), end=(2020,4,16), normalize=True):\n",
    "    if start is None:\n",
    "        start = datetime.datetime(2007, 1, 1)\n",
    "    else:\n",
    "        start = datetime.datetime(start[0],start[1],start[2])\n",
    "    if end is None:\n",
    "        end = datetime.date.today()\n",
    "    else:\n",
    "        end = datetime.datetime(end[0],end[1],end[2])\n",
    "    \n",
    "    \n",
    "\n",
    "    # min max for every column\n",
    "    min_open = 0\n",
    "    min_close = 0\n",
    "    min_high = 0\n",
    "    min_low = 0\n",
    "    min_volume = 0\n",
    "\n",
    "    max_open = 0\n",
    "    max_close = 0\n",
    "    max_high = 0\n",
    "    max_low = 0\n",
    "    max_volume = 0\n",
    "\n",
    "\n",
    "    try:\n",
    "        # try scraping from online sources\n",
    "        df = web.DataReader(stock_name, \"yahoo\", start, end)\n",
    "        df.drop(['Close'], 1, inplace=True)\n",
    "        df.to_csv('dataset.csv', sep='\\t', encoding='utf-8')\n",
    "        print(\"done saving to csv\")\n",
    "    except:\n",
    "        # for some reason it can't connect, so use saved info\n",
    "        headers = ['High', 'Low', 'Open', 'Volume', 'Adj Close']\n",
    "        df = csv_to_df('./dataset.csv', '\\t', headers)\n",
    "\n",
    "    if normalize:\n",
    "        # uncomment to train it by normalizing test set independently\n",
    "        '''\n",
    "        min_max_scaler = preprocessing.MinMaxScaler()\n",
    "        df['Open'] = min_max_scaler.fit_transform(df.Open.values.reshape(-1,1))\n",
    "        df['High'] = min_max_scaler.fit_transform(df.High.values.reshape(-1,1))\n",
    "        df['Low'] = min_max_scaler.fit_transform(df.Low.values.reshape(-1,1))\n",
    "        df['Adj Close'] = min_max_scaler.fit_transform(df['Adj Close'].values.reshape(-1,1))\n",
    "        df['Volume'] = min_max_scaler.fit_transform(df.Volume.values.reshape(-1,1))\n",
    "        '''\n",
    "\n",
    "        # get min and max values from training values\n",
    "        min_open = df['Open'].min()\n",
    "        min_close = df['Adj Close'].min()\n",
    "        min_high = df['High'].min()\n",
    "        min_low = df['Low'].min()\n",
    "        min_volume = df['Volume'].min()\n",
    "\n",
    "        max_open = df['Open'].max()\n",
    "        max_close = df['Adj Close'].max()\n",
    "        max_high = df['High'].max()\n",
    "        max_low = df['Low'].max()\n",
    "        max_volume = df['Volume'].max()\n",
    "\n",
    "        # normalise things\n",
    "        df['Open'] = (df['Open'] - min_open)/(max_open - min_open)\n",
    "        df['Adj Close'] = (df['Adj Close'] - min_close)/(max_close-min_close)\n",
    "        df['High'] = (df['High'] - min_high)/(max_high - min_high)\n",
    "        df['Low'] = (df['Low'] - min_low)/(max_low - min_low)\n",
    "        df['Volume'] = (df['Volume'] -min_volume)/(max_volume - min_volume)\n",
    "        df.to_csv('new_df_normalised.csv', sep='\\t', encoding='utf-8')\n",
    "\n",
    "    return df\n"
   ]
  },
  {
   "cell_type": "code",
   "execution_count": 3,
   "metadata": {},
   "outputs": [
    {
     "name": "stdout",
     "output_type": "stream",
     "text": [
      "done saving to csv\n"
     ]
    },
    {
     "data": {
      "text/html": [
       "<div>\n",
       "<style scoped>\n",
       "    .dataframe tbody tr th:only-of-type {\n",
       "        vertical-align: middle;\n",
       "    }\n",
       "\n",
       "    .dataframe tbody tr th {\n",
       "        vertical-align: top;\n",
       "    }\n",
       "\n",
       "    .dataframe thead th {\n",
       "        text-align: right;\n",
       "    }\n",
       "</style>\n",
       "<table border=\"1\" class=\"dataframe\">\n",
       "  <thead>\n",
       "    <tr style=\"text-align: right;\">\n",
       "      <th></th>\n",
       "      <th>High</th>\n",
       "      <th>Low</th>\n",
       "      <th>Open</th>\n",
       "      <th>Volume</th>\n",
       "      <th>Adj Close</th>\n",
       "    </tr>\n",
       "    <tr>\n",
       "      <th>Date</th>\n",
       "      <th></th>\n",
       "      <th></th>\n",
       "      <th></th>\n",
       "      <th></th>\n",
       "      <th></th>\n",
       "    </tr>\n",
       "  </thead>\n",
       "  <tbody>\n",
       "    <tr>\n",
       "      <th>1985-01-29</th>\n",
       "      <td>1295.489990</td>\n",
       "      <td>1266.890015</td>\n",
       "      <td>1277.719971</td>\n",
       "      <td>13560000</td>\n",
       "      <td>1292.619995</td>\n",
       "    </tr>\n",
       "    <tr>\n",
       "      <th>1985-01-30</th>\n",
       "      <td>1305.099976</td>\n",
       "      <td>1278.930054</td>\n",
       "      <td>1297.369995</td>\n",
       "      <td>16820000</td>\n",
       "      <td>1287.880005</td>\n",
       "    </tr>\n",
       "    <tr>\n",
       "      <th>1985-01-31</th>\n",
       "      <td>1293.400024</td>\n",
       "      <td>1272.640015</td>\n",
       "      <td>1283.239990</td>\n",
       "      <td>14070000</td>\n",
       "      <td>1286.770020</td>\n",
       "    </tr>\n",
       "    <tr>\n",
       "      <th>1985-02-01</th>\n",
       "      <td>1286.109985</td>\n",
       "      <td>1269.770020</td>\n",
       "      <td>1276.939941</td>\n",
       "      <td>10980000</td>\n",
       "      <td>1277.719971</td>\n",
       "    </tr>\n",
       "    <tr>\n",
       "      <th>1985-02-04</th>\n",
       "      <td>1294.939941</td>\n",
       "      <td>1268.989990</td>\n",
       "      <td>1272.079956</td>\n",
       "      <td>11630000</td>\n",
       "      <td>1290.079956</td>\n",
       "    </tr>\n",
       "  </tbody>\n",
       "</table>\n",
       "</div>"
      ],
      "text/plain": [
       "                   High          Low         Open    Volume    Adj Close\n",
       "Date                                                                    \n",
       "1985-01-29  1295.489990  1266.890015  1277.719971  13560000  1292.619995\n",
       "1985-01-30  1305.099976  1278.930054  1297.369995  16820000  1287.880005\n",
       "1985-01-31  1293.400024  1272.640015  1283.239990  14070000  1286.770020\n",
       "1985-02-01  1286.109985  1269.770020  1276.939941  10980000  1277.719971\n",
       "1985-02-04  1294.939941  1268.989990  1272.079956  11630000  1290.079956"
      ]
     },
     "execution_count": 3,
     "metadata": {},
     "output_type": "execute_result"
    }
   ],
   "source": [
    "# get that data\n",
    "df = get_stock_data('^DJI', normalize=False)\n",
    "\n",
    "# see the first 5 rows\n",
    "df.head(5)"
   ]
  },
  {
   "cell_type": "code",
   "execution_count": 4,
   "metadata": {},
   "outputs": [],
   "source": [
    "# we will try predicting if price is going to increase or decrease\n",
    "# as such we will first make those labels\n",
    "\n",
    "# before that first find these values as individual arrays to manipulate\n",
    "high = hi = df['High'].values\n",
    "low = lo = df['Low'].values\n",
    "open = op = df['Open'].values\n",
    "volume = vo = df['Volume'].values\n",
    "close = cl = df['Adj Close'].values"
   ]
  },
  {
   "cell_type": "code",
   "execution_count": 5,
   "metadata": {},
   "outputs": [],
   "source": [
    "# create a sign function. This just returns the sign of the number you pass in:\n",
    "def sgn(x):\n",
    "    if x >= 0:\n",
    "        return 1\n",
    "    return 0 # let negatives be 0 for sandard 0/1 classification"
   ]
  },
  {
   "cell_type": "code",
   "execution_count": 6,
   "metadata": {},
   "outputs": [],
   "source": [
    "# find labels\n",
    "labels = [close[i+1]-close[i] for i in range(len(close)-1)]\n",
    "labels = [sgn(i) for i in labels]\n",
    "\n",
    "# so hi[i]...close[i] can be used to predict labels[i] (labels[i] predicts if next day is an increase or decrease)\n",
    "# as such, the last day doesn't have a corresponding label\n",
    "# we don't actually know what is going to happen! That's what we are trying to predict...\n",
    "# so remove the last piece of information from all arrays\n",
    "hi = hi[:-1]\n",
    "lo = lo[:-1]\n",
    "op = op[:-1]\n",
    "vo = vo[:-1]\n",
    "close = close[:-1]"
   ]
  },
  {
   "cell_type": "code",
   "execution_count": 35,
   "metadata": {},
   "outputs": [
    {
     "data": {
      "text/plain": [
       "array([[1.29548999e+03, 1.26689001e+03, 1.27771997e+03, 1.35600000e+07,\n",
       "        1.29262000e+03],\n",
       "       [1.30509998e+03, 1.27893005e+03, 1.29737000e+03, 1.68200000e+07,\n",
       "        1.28788000e+03],\n",
       "       [1.29340002e+03, 1.27264001e+03, 1.28323999e+03, 1.40700000e+07,\n",
       "        1.28677002e+03],\n",
       "       [1.28610999e+03, 1.26977002e+03, 1.27693994e+03, 1.09800000e+07,\n",
       "        1.27771997e+03],\n",
       "       [1.29493994e+03, 1.26898999e+03, 1.27207996e+03, 1.16300000e+07,\n",
       "        1.29007996e+03]])"
      ]
     },
     "execution_count": 35,
     "metadata": {},
     "output_type": "execute_result"
    }
   ],
   "source": [
    "# make the data matrix\n",
    "data = np.array([hi,lo,op,vo,close])\n",
    "# in this,ith column is the ith day's values (so row 2 for index i would be opening price for ith day)\n",
    "# as such we need to transpose that matrix\n",
    "data = data.T\n",
    "data[:5]"
   ]
  },
  {
   "cell_type": "code",
   "execution_count": 8,
   "metadata": {},
   "outputs": [],
   "source": [
    "# visualise things... since there are so many data points, lets just take 2 different pointers for now, volume and closing price.\n",
    "# first we make different labels for colors\n",
    "colors = ['green' if i==1 else 'red' for i in labels ]"
   ]
  },
  {
   "cell_type": "code",
   "execution_count": 9,
   "metadata": {},
   "outputs": [
    {
     "data": {
      "text/plain": [
       "<matplotlib.collections.PathCollection at 0x120c9b978>"
      ]
     },
     "execution_count": 9,
     "metadata": {},
     "output_type": "execute_result"
    },
    {
     "data": {
      "image/png": "[encoded data removed]",
      "text/plain": [
       "<Figure size 432x288 with 1 Axes>"
      ]
     },
     "metadata": {
      "needs_background": "light"
     },
     "output_type": "display_data"
    }
   ],
   "source": [
    "# now we have colors, plot them!\n",
    "plt.scatter([i for i in range(len(close))], close, c=colors)"
   ]
  },
  {
   "cell_type": "code",
   "execution_count": 10,
   "metadata": {},
   "outputs": [
    {
     "data": {
      "text/plain": [
       "<matplotlib.collections.PathCollection at 0x11c4e94a8>"
      ]
     },
     "execution_count": 10,
     "metadata": {},
     "output_type": "execute_result"
    },
    {
     "data": {
      "image/png": "[encoded data removed]",
      "text/plain": [
       "<Figure size 432x288 with 1 Axes>"
      ]
     },
     "metadata": {
      "needs_background": "light"
     },
     "output_type": "display_data"
    }
   ],
   "source": [
    "# same thing with volume\n",
    "plt.scatter([i for i in range(len(close))], vo, c=colors)"
   ]
  },
  {
   "cell_type": "code",
   "execution_count": 11,
   "metadata": {},
   "outputs": [
    {
     "data": {
      "text/plain": [
       "(8875, 5)"
      ]
     },
     "execution_count": 11,
     "metadata": {},
     "output_type": "execute_result"
    }
   ],
   "source": [
    "# see data's shape\n",
    "data.shape"
   ]
  },
  {
   "cell_type": "code",
   "execution_count": 12,
   "metadata": {},
   "outputs": [
    {
     "name": "stdout",
     "output_type": "stream",
     "text": [
      "(1775, 5) (7100, 5)\n"
     ]
    }
   ],
   "source": [
    "# so we have 8802 samples, with 5 features each\n",
    "# let's break them into 80% - 20% split\n",
    "train = data[:int(0.8*len(data))]\n",
    "test = data[int(0.8*len(data)):]\n",
    "print(test.shape,train.shape)\n",
    "\n",
    "# convert labels to numpy array to ease things\n",
    "labels = np.array(labels).reshape(len(labels),1)"
   ]
  },
  {
   "cell_type": "code",
   "execution_count": 36,
   "metadata": {},
   "outputs": [
    {
     "data": {
      "text/plain": [
       "array([[0.00332619, 0.00236948, 0.00255408, 0.01498825, 0.00379723],\n",
       "       [0.00404806, 0.00327919, 0.00402976, 0.01941814, 0.00344131],\n",
       "       [0.0031692 , 0.00280393, 0.00296862, 0.01568127, 0.00335796],\n",
       "       [0.00262159, 0.00258708, 0.0024955 , 0.01148238, 0.0026784 ],\n",
       "       [0.00328487, 0.00252815, 0.00213053, 0.01236564, 0.0036065 ]])"
      ]
     },
     "execution_count": 36,
     "metadata": {},
     "output_type": "execute_result"
    }
   ],
   "source": [
    "# normalize them\n",
    "train_min = np.min(train,axis=0)\n",
    "test_min = np.min(test,axis=0)\n",
    "\n",
    "train_max = np.max(train,axis=0)\n",
    "test_max = np.max(test,axis=0)\n",
    "\n",
    "train = (train-train_min)/(train_max-train_min)\n",
    "test = (test-test_min)/(test_max-test_min)\n",
    "train[:5]"
   ]
  },
  {
   "cell_type": "code",
   "execution_count": 14,
   "metadata": {},
   "outputs": [],
   "source": [
    "# define a sigmoid function. Why Sigmoid? It shows up in the posterior distros for a lot of things, especially\n",
    "# bernoulli and all forms of gaussian...\n",
    "def sigmoid(x):\n",
    "    return 1/(1+np.exp(-x))"
   ]
  },
  {
   "cell_type": "code",
   "execution_count": 15,
   "metadata": {},
   "outputs": [],
   "source": [
    "# define likelihood fn (I use log likelihood, feel free to use whatever)\n",
    "def likelihood(weights,data,labels):\n",
    "    scores = np.dot(data, weights)\n",
    "    likelihood = np.sum(labels*scores - np.log(1 + np.exp(scores)))\n",
    "    return likelihood"
   ]
  },
  {
   "cell_type": "code",
   "execution_count": 26,
   "metadata": {},
   "outputs": [],
   "source": [
    "# do the regression! yay!\n",
    "# canonically, x is my data, y is their labels, intercept is if my predicted line should have an intercept\n",
    "# or not (no intercept => go through origin)\n",
    "# learning rate is how much you want to move by\n",
    "# num_iter = how many iterations\n",
    "def lr(x, y, intercept=True, learning_rate = 0.02, num_iter=100000):\n",
    "    # if we have interceps, define that:\n",
    "    if intercept:\n",
    "        arr = np.ones(len(x)).reshape(len(x),1)\n",
    "        x = np.hstack((arr,x))\n",
    "    \n",
    "    # define weights\n",
    "    weights = np.zeros(len(x[0])).reshape(len(x[0]),1)\n",
    "    \n",
    "    # do it\n",
    "    for step in range(num_iter+1):\n",
    "        scores = np.dot(x, weights)\n",
    "        predictions = sigmoid(scores)\n",
    "\n",
    "        # Update weights with log likelihood gradient\n",
    "        output_error_signal = y - predictions\n",
    "        \n",
    "        gradient = np.dot(x.T, output_error_signal)\n",
    "        weights += learning_rate * gradient\n",
    "\n",
    "        # Print log-likelihood every so often\n",
    "        if step % 1000 == 0:\n",
    "            print (likelihood(weights,x, y))\n",
    "    \n",
    "    return weights\n",
    "        "
   ]
  },
  {
   "cell_type": "code",
   "execution_count": 37,
   "metadata": {},
   "outputs": [
    {
     "name": "stdout",
     "output_type": "stream",
     "text": [
      "-4918.585749458021\n",
      "-4913.29972405839\n",
      "-4913.219379060301\n",
      "-4913.160035178852\n",
      "-4913.101619437131\n",
      "-4913.043662500805\n",
      "-4912.986149755088\n",
      "-4912.929077167268\n",
      "-4912.8724409817005\n",
      "-4912.8162374804615\n",
      "-4912.760462977523\n",
      "-4912.705113818376\n",
      "-4912.6501863797475\n",
      "-4912.59567706936\n",
      "-4912.541582325664\n",
      "-4912.487898617587\n",
      "-4912.434622444278\n",
      "-4912.381750334859\n",
      "-4912.329278848174\n",
      "-4912.277204572541\n",
      "-4912.225524125511\n",
      "-4912.174234153615\n",
      "-4912.123331332132\n",
      "-4912.072812364843\n",
      "-4912.0226739838\n",
      "-4911.972912949077\n",
      "-4911.923526048549\n",
      "-4911.87451009765\n",
      "-4911.825861939149\n",
      "-4911.777578442914\n",
      "-4911.729656505691\n",
      "-4911.682093050873\n",
      "-4911.634885028282\n",
      "-4911.588029413943\n",
      "-4911.541523209861\n",
      "-4911.49536344381\n",
      "-4911.449547169112\n",
      "-4911.404071464415\n",
      "-4911.358933433497\n",
      "-4911.314130205035\n",
      "-4911.269658932406\n",
      "-4911.225516793476\n",
      "-4911.1817009903925\n",
      "-4911.13820874938\n",
      "-4911.095037320532\n",
      "-4911.052183977622\n",
      "-4911.009646017885\n",
      "-4910.967420761831\n",
      "-4910.925505553046\n",
      "-4910.883897757994\n",
      "-4910.842594765823\n",
      "-4910.801593988177\n",
      "-4910.760892858994\n",
      "-4910.720488834333\n",
      "-4910.680379392169\n",
      "-4910.640562032222\n",
      "-4910.601034275757\n",
      "-4910.561793665417\n",
      "-4910.522837765024\n",
      "-4910.484164159412\n",
      "-4910.445770454243\n",
      "-4910.407654275827\n",
      "-4910.369813270949\n",
      "-4910.332245106694\n",
      "-4910.2949474702755\n",
      "-4910.257918068859\n",
      "-4910.221154629392\n",
      "-4910.184654898442\n",
      "-4910.148416642021\n",
      "-4910.1124376454245\n",
      "-4910.076715713059\n",
      "-4910.041248668288\n",
      "-4910.006034353266\n",
      "-4909.971070628773\n",
      "-4909.936355374062\n",
      "-4909.9018864866985\n",
      "-4909.867661882397\n",
      "-4909.833679494878\n",
      "-4909.799937275701\n",
      "-4909.7664331941205\n",
      "-4909.73316523693\n",
      "-4909.70013140831\n",
      "-4909.667329729684\n",
      "-4909.634758239563\n",
      "-4909.602414993406\n",
      "-4909.5702980634715\n",
      "-4909.53840553867\n",
      "-4909.506735524426\n",
      "-4909.475286142531\n",
      "-4909.444055531008\n",
      "-4909.413041843965\n",
      "-4909.382243251464\n",
      "-4909.351657939379\n",
      "-4909.321284109259\n",
      "-4909.2911199781975\n",
      "-4909.261163778693\n",
      "-4909.231413758522\n",
      "-4909.2018681806\n",
      "-4909.172525322863\n",
      "-4909.14338347812\n",
      "-4909.114440953943\n"
     ]
    }
   ],
   "source": [
    "train_labels = labels[:len(train)]\n",
    "test_labels = labels[len(train):]\n",
    "intercept = False\n",
    "wts = lr(train,train_labels, intercept=intercept, learning_rate=0.0001)"
   ]
  },
  {
   "cell_type": "code",
   "execution_count": 38,
   "metadata": {},
   "outputs": [
    {
     "name": "stdout",
     "output_type": "stream",
     "text": [
      "[[ 1.79578253]\n",
      " [ 0.78156783]\n",
      " [ 3.04286232]\n",
      " [-0.31658282]\n",
      " [-5.34845303]]\n"
     ]
    }
   ],
   "source": [
    "# try getting accuracy\n",
    "# first find predictions on training set. Rememmber to change things appropriately for intercept\n",
    "train_acc = train\n",
    "test_acc = test\n",
    "if intercept:\n",
    "    train_acc = np.hstack((np.ones(len(train)).reshape(len(train),1), train))\n",
    "    test_acc = np.hstack((np.ones(len(test)).reshape(len(test),1), test))\n",
    "print(wts)"
   ]
  },
  {
   "cell_type": "code",
   "execution_count": 39,
   "metadata": {},
   "outputs": [
    {
     "name": "stdout",
     "output_type": "stream",
     "text": [
      "0.5335211267605634\n"
     ]
    }
   ],
   "source": [
    "# training accuracy\n",
    "train_preds = np.round(sigmoid(np.dot(train_acc, wts)))\n",
    "\n",
    "_ = [1 if train_labels[i] == train_preds[i] else 0 for i in range(len(train_preds))]\n",
    "count = sum(_)\n",
    "print(count/len(train_labels))"
   ]
  },
  {
   "cell_type": "code",
   "execution_count": 40,
   "metadata": {},
   "outputs": [
    {
     "name": "stdout",
     "output_type": "stream",
     "text": [
      "0.5425352112676056\n"
     ]
    }
   ],
   "source": [
    "# testt accuracy\n",
    "test_preds = np.round(sigmoid(np.dot(test_acc, wts)))\n",
    "\n",
    "_ = [1 if test_labels[i] == test_preds[i] else 0 for i in range(len(test_preds))]\n",
    "count = sum(_)\n",
    "print(count/len(test_labels))"
   ]
  },
  {
   "cell_type": "code",
   "execution_count": null,
   "metadata": {},
   "outputs": [],
   "source": []
  }
 ],
 "metadata": {
  "kernelspec": {
   "display_name": "Python 3",
   "language": "python",
   "name": "python3"
  },
  "language_info": {
   "codemirror_mode": {
    "name": "ipython",
    "version": 3
   },
   "file_extension": ".py",
   "mimetype": "text/x-python",
   "name": "python",
   "nbconvert_exporter": "python",
   "pygments_lexer": "ipython3",
   "version": "3.5.4"
  }
 },
 "nbformat": 4,
 "nbformat_minor": 2
}
